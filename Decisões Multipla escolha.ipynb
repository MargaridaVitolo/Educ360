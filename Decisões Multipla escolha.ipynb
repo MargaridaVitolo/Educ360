{
  "nbformat": 4,
  "nbformat_minor": 0,
  "metadata": {
    "colab": {
      "provenance": [],
      "authorship_tag": "ABX9TyM5BO6JhswVp89kVdxn+IRt",
      "include_colab_link": true
    },
    "kernelspec": {
      "name": "python3",
      "display_name": "Python 3"
    },
    "language_info": {
      "name": "python"
    }
  },
  "cells": [
    {
      "cell_type": "markdown",
      "metadata": {
        "id": "view-in-github",
        "colab_type": "text"
      },
      "source": [
        "<a href=\"https://colab.research.google.com/github/MargaridaVitolo/Educ360/blob/main/Decis%C3%B5es%20Multipla%20escolha.ipynb\" target=\"_parent\"><img src=\"https://colab.research.google.com/assets/colab-badge.svg\" alt=\"Open In Colab\"/></a>"
      ]
    },
    {
      "cell_type": "code",
      "execution_count": 22,
      "metadata": {
        "colab": {
          "base_uri": "https://localhost:8080/"
        },
        "id": "Gf31FOnqZWuG",
        "outputId": "c63d0243-0d11-400a-a8c7-95b80876100c"
      },
      "outputs": [
        {
          "output_type": "stream",
          "name": "stdout",
          "text": [
            "Qual produto: TV\n",
            "Qual valor: 1000\n",
            "Estado da Entrega (SP/RJ/MG): BA\n",
            "Não entregamos\n"
          ]
        }
      ],
      "source": [
        "var_produto = \"\"\n",
        "var_valor = 0\n",
        "var_estado = \"\"\n",
        "\n",
        "var_produto   = input (\"Qual produto: \")\n",
        "var_valor     = input(\"Qual valor: \")\n",
        "var_estado    = input(\"Estado da Entrega (SP/RJ/MG): \")\n",
        "\n",
        "var_frete = 0\n",
        "\n",
        "if (var_estado == \"SP\"):\n",
        "  var_frete = float(var_valor) * 0.10\n",
        "  print(\"Frete: \", var_frete)\n",
        "elif (var_estado == \"RJ\"):\n",
        "  var_frete = float(var_valor) * 0.15\n",
        "elif (var_estado == \"MG\"):\n",
        "  var_frete = float(var_valor) * 0.17\n",
        "\n",
        "if (float(var_frete) == 0):\n",
        "  print(\"Não entregamos\")\n",
        "else:\n",
        "  print(\"Custo do Frete: \", var_frete)\n",
        "\n",
        "\n",
        "\n"
      ]
    }
  ]
}