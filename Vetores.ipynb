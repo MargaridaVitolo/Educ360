{
  "nbformat": 4,
  "nbformat_minor": 0,
  "metadata": {
    "colab": {
      "provenance": [],
      "authorship_tag": "ABX9TyOKMqhO/5qL6X3ISkUTe7wp",
      "include_colab_link": true
    },
    "kernelspec": {
      "name": "python3",
      "display_name": "Python 3"
    },
    "language_info": {
      "name": "python"
    }
  },
  "cells": [
    {
      "cell_type": "markdown",
      "metadata": {
        "id": "view-in-github",
        "colab_type": "text"
      },
      "source": [
        "<a href=\"https://colab.research.google.com/github/MargaridaVitolo/Educ360/blob/main/Vetores.ipynb\" target=\"_parent\"><img src=\"https://colab.research.google.com/assets/colab-badge.svg\" alt=\"Open In Colab\"/></a>"
      ]
    },
    {
      "cell_type": "code",
      "execution_count": 45,
      "metadata": {
        "colab": {
          "base_uri": "https://localhost:8080/"
        },
        "id": "Gf31FOnqZWuG",
        "outputId": "eebdc804-f3e6-4b26-dd99-83e5937234a9"
      },
      "outputs": [
        {
          "output_type": "stream",
          "name": "stdout",
          "text": [
            "Digite a nota: 6\n",
            "Digite a nota: 8\n",
            "Digite a nota: 9\n",
            "Digite a nota: 4\n",
            "Nova Prova\n",
            "6.75\n",
            "Nota 1 6.0\n",
            "Nota 2 8.0\n",
            "Nota 3 9.0\n",
            "Nota 4 4.0\n"
          ]
        }
      ],
      "source": [
        "var_notas = []\n",
        "var_media = 0\n",
        "\n",
        "for x in range(4):\n",
        "  var_notas.append(float(input(\"Digite a nota: \")))\n",
        "  var_media = float(var_media) + float(var_notas[x])\n",
        "\n",
        "var_media = float(var_media) / 4\n",
        "\n",
        "if var_media >= 7:\n",
        "  print(\"Aprovado\")\n",
        "else:\n",
        "  print(\"Nova Prova\")\n",
        "\n",
        "print(var_media)\n",
        "print(\"Nota 1\", var_notas[0])\n",
        "print(\"Nota 2\", var_notas[1])\n",
        "print(\"Nota 3\", var_notas[2])\n",
        "print(\"Nota 4\", var_notas[3])\n",
        "\n",
        "\n",
        "\n",
        "\n",
        "\n"
      ]
    }
  ]
}