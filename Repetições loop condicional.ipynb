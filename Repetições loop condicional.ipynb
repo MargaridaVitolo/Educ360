{
  "nbformat": 4,
  "nbformat_minor": 0,
  "metadata": {
    "colab": {
      "provenance": [],
      "authorship_tag": "ABX9TyNGfuAv39ffY9NT8gRpWXWX",
      "include_colab_link": true
    },
    "kernelspec": {
      "name": "python3",
      "display_name": "Python 3"
    },
    "language_info": {
      "name": "python"
    }
  },
  "cells": [
    {
      "cell_type": "markdown",
      "metadata": {
        "id": "view-in-github",
        "colab_type": "text"
      },
      "source": [
        "<a href=\"https://colab.research.google.com/github/MargaridaVitolo/Educ360/blob/main/Repeti%C3%A7%C3%B5es%20loop%20condicional.ipynb\" target=\"_parent\"><img src=\"https://colab.research.google.com/assets/colab-badge.svg\" alt=\"Open In Colab\"/></a>"
      ]
    },
    {
      "cell_type": "code",
      "execution_count": 35,
      "metadata": {
        "colab": {
          "base_uri": "https://localhost:8080/"
        },
        "id": "Gf31FOnqZWuG",
        "outputId": "ccdd34d6-7e50-4541-bed6-64e84867272b"
      },
      "outputs": [
        {
          "output_type": "stream",
          "name": "stdout",
          "text": [
            "Capital de Entrada: 500\n",
            "Taxa de Juros: 0.02\n",
            "Meses de aplicação: 6\n",
            "Capital entrada:  500\n",
            "Capital final:  563.081209632\n"
          ]
        }
      ],
      "source": [
        "var_capital     = 0\n",
        "var_taxa        = 0\n",
        "var_meses       = 0\n",
        "var_contador    = 1\n",
        "var_capital_apl = 0\n",
        "\n",
        "var_capital     = input(\"Capital de Entrada: \")\n",
        "var_taxa        = input(\"Taxa de Juros: \")\n",
        "var_meses       = input(\"Meses de aplicação: \")\n",
        "var_capital_apl = var_capital\n",
        "\n",
        "while (int(var_contador) <= int(var_meses)):\n",
        "    var_capital_apl = float(var_capital_apl) + (float(var_capital_apl) * float(var_taxa))\n",
        "    var_contador = int(var_contador) + 1\n",
        "\n",
        "\n",
        "print(\"Capital entrada: \", var_capital)\n",
        "print(\"Capital final: \", var_capital_apl)\n",
        "\n",
        "\n",
        "\n",
        "\n"
      ]
    }
  ]
}