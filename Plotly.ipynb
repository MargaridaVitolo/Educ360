{
  "nbformat": 4,
  "nbformat_minor": 0,
  "metadata": {
    "colab": {
      "provenance": [],
      "authorship_tag": "ABX9TyMI6K6q4JTTjkgYxq+JW5aP",
      "include_colab_link": true
    },
    "kernelspec": {
      "name": "python3",
      "display_name": "Python 3"
    },
    "language_info": {
      "name": "python"
    }
  },
  "cells": [
    {
      "cell_type": "markdown",
      "metadata": {
        "id": "view-in-github",
        "colab_type": "text"
      },
      "source": [
        "<a href=\"https://colab.research.google.com/github/MargaridaVitolo/Educ360/blob/main/Plotly.ipynb\" target=\"_parent\"><img src=\"https://colab.research.google.com/assets/colab-badge.svg\" alt=\"Open In Colab\"/></a>"
      ]
    },
    {
      "cell_type": "code",
      "source": [
        "!pip install -U plotly\n"
      ],
      "metadata": {
        "id": "rxDmbrI4wIRF"
      },
      "execution_count": null,
      "outputs": []
    },
    {
      "cell_type": "code",
      "source": [
        "import plotly.express as px\n",
        "\n",
        "px.line(x=[1,2,3,4,5,6],y=[10,20,12,50,30,40])\n",
        "# o nr de itens do eixo x deve ser igual ao nr de itens do eixo y"
      ],
      "metadata": {
        "id": "KpKUk5KzgJ7B"
      },
      "execution_count": null,
      "outputs": []
    },
    {
      "cell_type": "markdown",
      "source": [
        "###Atividade com o Pandas\n"
      ],
      "metadata": {
        "id": "ITRZhqcNhfhY"
      }
    },
    {
      "cell_type": "code",
      "source": [
        "import pandas as pd\n",
        "\n",
        "df = pd.read_csv('https://raw.githubusercontent.com/plotly/datasets/master/gapminder2007.csv')\n",
        "\n",
        "px.line(df, x='country', y='lifeExp', title='Expectativa de vida')"
      ],
      "metadata": {
        "id": "_hBG0o4ywWgT"
      },
      "execution_count": null,
      "outputs": []
    },
    {
      "cell_type": "code",
      "source": [
        "#df = px.data.gapminder()\n",
        "#df\n",
        "\n",
        "df = px.data.gapminder().query(\"continent=='Americas' and year >=2000  and pop >=40000\")\n",
        "px.line(df, x='year', y='lifeExp', color='country',text='pop', hover_name='pop')"
      ],
      "metadata": {
        "id": "jkQUK13Ek3VB"
      },
      "execution_count": null,
      "outputs": []
    },
    {
      "cell_type": "markdown",
      "source": [
        "###CSV Simples\n"
      ],
      "metadata": {
        "id": "b-R-lblAni8o"
      }
    },
    {
      "cell_type": "code",
      "source": [
        "df = pd.read_csv('https://raw.githubusercontent.com/profivan-ai/cdb-Python/refs/heads/main/arquivos/viagens.csv',sep=';')\n",
        "\n",
        "df_meses = df.groupby(by=['mes'],sort=False).mean().reset_index()\n",
        "#df_meses\n",
        "#linha do tempo x comparaçoes\n",
        "px.line(df, x='mes', y='viagens', title='Média de viagens por mês',color = 'ano', text='viagens')"
      ],
      "metadata": {
        "id": "i_MLgO-Bnm5L"
      },
      "execution_count": null,
      "outputs": []
    },
    {
      "cell_type": "markdown",
      "source": [
        "###Grafico de Barras"
      ],
      "metadata": {
        "id": "BCI-P_8vq3gF"
      }
    },
    {
      "cell_type": "code",
      "source": [
        "import numpy as np\n",
        "\n",
        "df = pd.read_csv('https://raw.githubusercontent.com/profivan-ai/cdb-Python/refs/heads/main/arquivos/compras.csv',sep=';')\n",
        "\n",
        "df_dia = df.groupby('dia',sort=False).agg({'valor': np.sum}).reset_index()\n",
        "df_dia\n",
        "px.bar(df_dia, x='dia', y='valor', title='Gastos por dia da semana', color='dia')\n",
        "\n"
      ],
      "metadata": {
        "id": "dV0S9yG_q6Y9"
      },
      "execution_count": null,
      "outputs": []
    },
    {
      "cell_type": "code",
      "source": [
        "df_dia = df.groupby([\"dia\",\"sexo\"],sort=False).agg({'valor': np.sum}).reset_index()\n",
        "df_dia\n",
        "px.bar(df_dia, x='dia', y='valor', title='Gastos por dia da semana x público (M/F)', color='sexo',barmode='group',text='valor')"
      ],
      "metadata": {
        "id": "Q9_gxXEmvss2"
      },
      "execution_count": null,
      "outputs": []
    },
    {
      "cell_type": "code",
      "source": [
        "df_dia = df.groupby([\"dia\",\"sexo\",\"clube\"],sort=False).agg({'valor': np.sum}).reset_index()\n",
        "df_dia\n",
        "px.bar(df_dia, x='dia', y='valor', title='Gastos por dia da semana x público (M/F) x Clube', color='sexo',barmode='group',text='valor')"
      ],
      "metadata": {
        "id": "xY0vObBZxbtj"
      },
      "execution_count": null,
      "outputs": []
    },
    {
      "cell_type": "code",
      "source": [
        "df_dia = df.groupby([\"dia\",\"sexo\"],sort=False).agg({'valor': np.sum}).reset_index()\n",
        "df_dia\n",
        "px.bar(df_dia, x='valor', y='dia', title='Gastos por dia da semana x público (M/F)', color='sexo',barmode='group',text='valor', orientation='h',hover_name='valor')\n",
        "#"
      ],
      "metadata": {
        "id": "gpSyEvFQylGu"
      },
      "execution_count": null,
      "outputs": []
    }
  ]
}