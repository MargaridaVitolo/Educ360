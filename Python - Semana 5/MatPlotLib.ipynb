{
  "cells": [
    {
      "cell_type": "markdown",
      "metadata": {
        "colab_type": "text",
        "id": "view-in-github"
      },
      "source": [
        "<a href=\"https://colab.research.google.com/github/MargaridaVitolo/Educ360/blob/main/MatPlotLib.ipynb\" target=\"_parent\"><img src=\"https://colab.research.google.com/assets/colab-badge.svg\" alt=\"Open In Colab\"/></a>"
      ]
    },
    {
      "cell_type": "code",
      "execution_count": null,
      "metadata": {
        "id": "qYQaIy1DBXf-"
      },
      "outputs": [],
      "source": [
        "# @title MatPlotLib\n",
        "\n",
        "import pandas as pd\n",
        "\n",
        "df = pd.read_csv('https://raw.githubusercontent.com/profivan-ai/cdb-Python/refs/heads/main/arquivos/alunos_cursos.csv',sep=';')\n",
        "\n",
        "# verificar nulos\n",
        "df.isnull().sum()\n"
      ]
    },
    {
      "cell_type": "code",
      "execution_count": null,
      "metadata": {
        "id": "B6t_xwCMD4m0"
      },
      "outputs": [],
      "source": [
        "# eliminar uma coluna\n",
        "df.drop('Projetos',axis=1,inplace=True)\n",
        "df"
      ]
    },
    {
      "cell_type": "code",
      "execution_count": null,
      "metadata": {
        "id": "csLh_zICEkvN"
      },
      "outputs": [],
      "source": [
        "df[\"Aprovado\"] = (df[\"Nota\"] >= 7.5) & (df[\"Presença\"] >= 7.5)\n",
        "\n",
        "df.Aprovado.value_counts()"
      ]
    },
    {
      "cell_type": "code",
      "execution_count": 6,
      "metadata": {
        "id": "_GovhOFxGEFr"
      },
      "outputs": [],
      "source": [
        "def desempenho(nota):\n",
        "  if nota >= 8.0:\n",
        "    return \"Alto\"\n",
        "  elif nota >= 6.0:\n",
        "    return \"Médio\"\n",
        "  else:\n",
        "    return \"Baixo\""
      ]
    },
    {
      "cell_type": "code",
      "execution_count": null,
      "metadata": {
        "id": "Tio04CvYJRWj"
      },
      "outputs": [],
      "source": [
        "df[\"Desempenho\"] = df[\"Nota\"].apply(desempenho)\n",
        "df"
      ]
    },
    {
      "cell_type": "code",
      "execution_count": null,
      "metadata": {
        "id": "xflWe517Hd5F"
      },
      "outputs": [],
      "source": [
        "#média de notas por curso - ordenado do menor para o maior - definindo uma coluna para o indice\n",
        "# criar gráfico para essa média\n",
        "# diminuir o intervalo do eixo y\n",
        "# apresentar o grid na impressao do grafico\n",
        "\n",
        "import numpy as np\n",
        "import matplotlib.pyplot as plt\n",
        "media_notas = df.groupby('Curso')['Nota'].mean().sort_values(ascending=True).reset_index()\n",
        "\n",
        "# definir y_min and y_max\n",
        "y_min = 0\n",
        "y_max = 10\n",
        "\n",
        "ax = media_notas.plot(\n",
        "    kind='bar',\n",
        "    x='Curso',\n",
        "    color='skyblue',\n",
        "    figsize=(8,5),\n",
        "    title='Média de Notas por curso',\n",
        "    xlabel='Cursos',\n",
        "    ylabel='Nota'\n",
        "    )\n",
        "ax.set_yticks(np.arange(np.floor(y_min*2)/2, np.ceil(y_max*2)/2 + 0.5,0.5))\n",
        "ax.grid(True, linestyle='--', alpha=0.6) # Added grid\n",
        "plt.tight_layout()\n",
        "plt.show()"
      ]
    },
    {
      "cell_type": "code",
      "execution_count": null,
      "metadata": {
        "id": "mTW6IelUqsZ9"
      },
      "outputs": [],
      "source": [
        "#o mesmo acima mas apresentado em grafico de linhas\n",
        "\n",
        "media_notas = df.groupby('Curso')['Nota'].mean().sort_values(ascending=True).reset_index()\n",
        "ax = media_notas.plot(\n",
        "    kind='line',\n",
        "    x='Curso',\n",
        "    color='skyblue',\n",
        "    figsize=(8,5),\n",
        "    title='Média de Notas por curso',\n",
        "    xlabel='Cursos',\n",
        "    ylabel='Nota'\n",
        "    )\n",
        "\n",
        "ax.grid(True, linestyle='--', alpha=0.5) # Added grid\n",
        "plt.tight_layout()\n",
        "plt.show()"
      ]
    },
    {
      "cell_type": "code",
      "execution_count": null,
      "metadata": {
        "colab": {
          "base_uri": "https://localhost:8080/",
          "height": 507
        },
        "id": "wyY9ZWq6H0GA",
        "outputId": "7dcf0ab2-0e96-4e55-b74f-b6c8500f76f3"
      },
      "outputs": [],
      "source": [
        "#número de alunos aprovados por curso\n",
        "aprov_curso = df.groupby('Curso')['Aprovado'].sum().reset_index()\n",
        "aprov_curso.plot(\n",
        "    kind='pie',\n",
        "    figsize=(8,5),\n",
        "    y='Aprovado',\n",
        "    labels=aprov_curso['Curso'],\n",
        "    title='Distribuição por Aprovações',\n",
        "    ylabel= '',\n",
        "    autopct='%1.2f%%',\n",
        ")\n",
        "plt.tight_layout()\n",
        "plt.show()"
      ]
    },
    {
      "cell_type": "code",
      "execution_count": null,
      "metadata": {
        "id": "R1KwEXL5J4EV"
      },
      "outputs": [],
      "source": [
        "# número de alunos por curso (barra)\n",
        "import matplotlib.pyplot as plt\n",
        "df['Curso'].value_counts().plot(\n",
        "    kind='bar',\n",
        "    color='red',\n",
        "    figsize=(8,5),\n",
        "    title='Número de alunos por curso',\n",
        "    xlabel='Cursos',\n",
        "    ylabel='Número de alunos'\n",
        "    )\n",
        "plt.tight_layout()\n",
        "plt.show()"
      ]
    },
    {
      "cell_type": "code",
      "execution_count": null,
      "metadata": {
        "id": "eEsXQSK6ZLYL"
      },
      "outputs": [],
      "source": [
        "#Distribuição por desempenho (pizza)\n",
        "\n",
        "df['Desempenho'].value_counts().plot(\n",
        "    kind='pie',\n",
        "    figsize=(8,5),\n",
        "    title='Desempenho dos alunos',\n",
        "    ylabel= '',\n",
        "    autopct='%1.1f%%',\n",
        "    shadow=True\n",
        ")\n",
        "plt.tight_layout()\n",
        "plt.show()\n"
      ]
    },
    {
      "cell_type": "code",
      "execution_count": null,
      "metadata": {
        "id": "zT-JdWPAgr1j"
      },
      "outputs": [],
      "source": [
        "#Frequencia de Notas por curso (linha)\n",
        "df.groupby('Curso')['Nota'].plot(\n",
        "    kind='line',\n",
        "    legend=True,\n",
        "    figsize=(8,5),\n",
        "    title='Frequencia de notas por curso',\n",
        "    xlabel='Cursos',\n",
        "    ylabel='Notas'\n",
        ")\n",
        "plt.tight_layout()\n",
        "plt.show()"
      ]
    },
    {
      "cell_type": "code",
      "execution_count": null,
      "metadata": {
        "id": "Sw58qcglhKR4"
      },
      "outputs": [],
      "source": [
        "#Frequencia de Notas por curso (linha)\n",
        "curso = 'Estatística'\n",
        "df[df['Curso']  == curso].plot(\n",
        "    kind='line',\n",
        "    legend=True,\n",
        "    y='Nota',\n",
        "    figsize=(8,5),\n",
        "    title=f'Frequencia de notas por curso {curso}',\n",
        "    xlabel='Cursos',\n",
        "    ylabel='Notas'\n",
        ")\n",
        "plt.tight_layout()\n",
        "plt.show()"
      ]
    }
  ],
  "metadata": {
    "colab": {
      "authorship_tag": "ABX9TyNITHAYAvBA1F6Pd7YmqpHo",
      "include_colab_link": true,
      "provenance": []
    },
    "kernelspec": {
      "display_name": "educ360",
      "language": "python",
      "name": "python3"
    },
    "language_info": {
      "codemirror_mode": {
        "name": "ipython",
        "version": 3
      },
      "file_extension": ".py",
      "mimetype": "text/x-python",
      "name": "python",
      "nbconvert_exporter": "python",
      "pygments_lexer": "ipython3",
      "version": "3.12.3"
    }
  },
  "nbformat": 4,
  "nbformat_minor": 0
}
