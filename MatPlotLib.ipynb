{
  "nbformat": 4,
  "nbformat_minor": 0,
  "metadata": {
    "colab": {
      "provenance": [],
      "authorship_tag": "ABX9TyNhf+hyVicOgqPJ+vc2HLhd",
      "include_colab_link": true
    },
    "kernelspec": {
      "name": "python3",
      "display_name": "Python 3"
    },
    "language_info": {
      "name": "python"
    }
  },
  "cells": [
    {
      "cell_type": "markdown",
      "metadata": {
        "id": "view-in-github",
        "colab_type": "text"
      },
      "source": [
        "<a href=\"https://colab.research.google.com/github/MargaridaVitolo/Educ360/blob/main/MatPlotLib.ipynb\" target=\"_parent\"><img src=\"https://colab.research.google.com/assets/colab-badge.svg\" alt=\"Open In Colab\"/></a>"
      ]
    },
    {
      "cell_type": "code",
      "execution_count": 8,
      "metadata": {
        "colab": {
          "base_uri": "https://localhost:8080/",
          "height": 264
        },
        "id": "qYQaIy1DBXf-",
        "outputId": "529b9a2e-2188-465c-a515-b4be4f8fde28"
      },
      "outputs": [
        {
          "output_type": "execute_result",
          "data": {
            "text/plain": [
              "Aluno          0\n",
              "Curso          0\n",
              "Nota           0\n",
              "Presença       0\n",
              "Projetos       0\n",
              "Certificado    0\n",
              "dtype: int64"
            ],
            "text/html": [
              "<div>\n",
              "<style scoped>\n",
              "    .dataframe tbody tr th:only-of-type {\n",
              "        vertical-align: middle;\n",
              "    }\n",
              "\n",
              "    .dataframe tbody tr th {\n",
              "        vertical-align: top;\n",
              "    }\n",
              "\n",
              "    .dataframe thead th {\n",
              "        text-align: right;\n",
              "    }\n",
              "</style>\n",
              "<table border=\"1\" class=\"dataframe\">\n",
              "  <thead>\n",
              "    <tr style=\"text-align: right;\">\n",
              "      <th></th>\n",
              "      <th>0</th>\n",
              "    </tr>\n",
              "  </thead>\n",
              "  <tbody>\n",
              "    <tr>\n",
              "      <th>Aluno</th>\n",
              "      <td>0</td>\n",
              "    </tr>\n",
              "    <tr>\n",
              "      <th>Curso</th>\n",
              "      <td>0</td>\n",
              "    </tr>\n",
              "    <tr>\n",
              "      <th>Nota</th>\n",
              "      <td>0</td>\n",
              "    </tr>\n",
              "    <tr>\n",
              "      <th>Presença</th>\n",
              "      <td>0</td>\n",
              "    </tr>\n",
              "    <tr>\n",
              "      <th>Projetos</th>\n",
              "      <td>0</td>\n",
              "    </tr>\n",
              "    <tr>\n",
              "      <th>Certificado</th>\n",
              "      <td>0</td>\n",
              "    </tr>\n",
              "  </tbody>\n",
              "</table>\n",
              "</div><br><label><b>dtype:</b> int64</label>"
            ]
          },
          "metadata": {},
          "execution_count": 8
        }
      ],
      "source": [
        "# @title MatPlotLib\n",
        "\n",
        "import pandas as pd\n",
        "\n",
        "df = pd.read_csv('https://raw.githubusercontent.com/profivan-ai/cdb-Python/refs/heads/main/arquivos/alunos_cursos.csv',sep=';')\n",
        "\n",
        "# verificar nulos\n",
        "df.isnull().sum()\n"
      ]
    },
    {
      "cell_type": "code",
      "source": [
        "# eliminar uma coluna\n",
        "df.drop('Projetos',axis=1,inplace=True)\n",
        "df"
      ],
      "metadata": {
        "id": "B6t_xwCMD4m0"
      },
      "execution_count": null,
      "outputs": []
    },
    {
      "cell_type": "code",
      "source": [
        "df[\"Aprovado\"] = (df[\"Nota\"] >= 7.5) & (df[\"Presença\"] >= 7.5)\n",
        "\n",
        "df.Aprovado.value_counts()"
      ],
      "metadata": {
        "colab": {
          "base_uri": "https://localhost:8080/",
          "height": 172
        },
        "id": "csLh_zICEkvN",
        "outputId": "c024a149-abe3-47c5-b854-5f7093af974a"
      },
      "execution_count": 25,
      "outputs": [
        {
          "output_type": "execute_result",
          "data": {
            "text/plain": [
              "Aprovado\n",
              "True     15\n",
              "False    15\n",
              "Name: count, dtype: int64"
            ],
            "text/html": [
              "<div>\n",
              "<style scoped>\n",
              "    .dataframe tbody tr th:only-of-type {\n",
              "        vertical-align: middle;\n",
              "    }\n",
              "\n",
              "    .dataframe tbody tr th {\n",
              "        vertical-align: top;\n",
              "    }\n",
              "\n",
              "    .dataframe thead th {\n",
              "        text-align: right;\n",
              "    }\n",
              "</style>\n",
              "<table border=\"1\" class=\"dataframe\">\n",
              "  <thead>\n",
              "    <tr style=\"text-align: right;\">\n",
              "      <th></th>\n",
              "      <th>count</th>\n",
              "    </tr>\n",
              "    <tr>\n",
              "      <th>Aprovado</th>\n",
              "      <th></th>\n",
              "    </tr>\n",
              "  </thead>\n",
              "  <tbody>\n",
              "    <tr>\n",
              "      <th>True</th>\n",
              "      <td>15</td>\n",
              "    </tr>\n",
              "    <tr>\n",
              "      <th>False</th>\n",
              "      <td>15</td>\n",
              "    </tr>\n",
              "  </tbody>\n",
              "</table>\n",
              "</div><br><label><b>dtype:</b> int64</label>"
            ]
          },
          "metadata": {},
          "execution_count": 25
        }
      ]
    },
    {
      "cell_type": "code",
      "source": [
        "def desempenho(nota):\n",
        "  if nota >= 8.0:\n",
        "    return \"Alto\"\n",
        "  elif nota >= 6.0:\n",
        "    return \"Médio\"\n",
        "  else:\n",
        "    return \"Baixo\""
      ],
      "metadata": {
        "id": "_GovhOFxGEFr"
      },
      "execution_count": 27,
      "outputs": []
    },
    {
      "cell_type": "code",
      "source": [
        "df[\"Desempenho\"] = df[\"Nota\"].apply(desempenho)\n",
        "df"
      ],
      "metadata": {
        "id": "Tio04CvYJRWj"
      },
      "execution_count": null,
      "outputs": []
    },
    {
      "cell_type": "code",
      "source": [
        "#média de notas por curso - ordenado do menor para o maior - definindo uma coluna para o indice\n",
        "media_notas = df.groupby('Curso')['Nota'].mean().sort_values(ascending=True).reset_index()\n",
        "media_notas"
      ],
      "metadata": {
        "id": "xflWe517Hd5F"
      },
      "execution_count": null,
      "outputs": []
    },
    {
      "cell_type": "code",
      "source": [
        "#número de alunos aprovados por curso\n",
        "aprov_curso = df.groupby('Curso')['Aprovado'].sum().reset_index()\n",
        "aprov_curso"
      ],
      "metadata": {
        "id": "wyY9ZWq6H0GA"
      },
      "execution_count": null,
      "outputs": []
    },
    {
      "cell_type": "code",
      "source": [
        "import matplotlib.pyplot as plt\n",
        "\n",
        "df['Curso'].value_counts().plot(\n",
        "    kind='bar',\n",
        "    color='red',\n",
        "    figsize=(8,5),\n",
        "    title='Número de alunos por curso',\n",
        "    xlabel='Cursos',\n",
        "    ylabel='Número de alunos'\n",
        "    )\n",
        "plt.tight_layout()\n",
        "plt.show()"
      ],
      "metadata": {
        "id": "R1KwEXL5J4EV"
      },
      "execution_count": null,
      "outputs": []
    },
    {
      "cell_type": "code",
      "source": [
        "from enum import auto\n",
        "df['Desempenho'].value_counts().plot(\n",
        "    kind='pie',\n",
        "    figsize=(8,5),\n",
        "    title='Desempenho dos alunos',\n",
        "    ylabel= '',\n",
        "    autopct='%1.1f%%',\n",
        "    shadow=True\n",
        ")\n",
        "plt.tight_layout()\n",
        "plt.show()\n"
      ],
      "metadata": {
        "colab": {
          "base_uri": "https://localhost:8080/",
          "height": 507
        },
        "id": "eEsXQSK6ZLYL",
        "outputId": "bb663ca7-7250-4bba-fbba-6cedac31ba73"
      },
      "execution_count": 44,
      "outputs": [
        {
          "output_type": "display_data",
          "data": {
            "text/plain": [
              "<Figure size 800x500 with 1 Axes>"
            ],
            "image/png": "[encoded data removed]"
          },
          "metadata": {}
        }
      ]
    }
  ]
}