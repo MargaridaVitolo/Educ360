{
  "nbformat": 4,
  "nbformat_minor": 0,
  "metadata": {
    "colab": {
      "provenance": [],
      "authorship_tag": "ABX9TyNITHAYAvBA1F6Pd7YmqpHo",
      "include_colab_link": true
    },
    "kernelspec": {
      "name": "python3",
      "display_name": "Python 3"
    },
    "language_info": {
      "name": "python"
    }
  },
  "cells": [
    {
      "cell_type": "markdown",
      "metadata": {
        "id": "view-in-github",
        "colab_type": "text"
      },
      "source": [
        "<a href=\"https://colab.research.google.com/github/MargaridaVitolo/Educ360/blob/main/MatPlotLib.ipynb\" target=\"_parent\"><img src=\"https://colab.research.google.com/assets/colab-badge.svg\" alt=\"Open In Colab\"/></a>"
      ]
    },
    {
      "cell_type": "code",
      "execution_count": null,
      "metadata": {
        "id": "qYQaIy1DBXf-"
      },
      "outputs": [],
      "source": [
        "# @title MatPlotLib\n",
        "\n",
        "import pandas as pd\n",
        "\n",
        "df = pd.read_csv('https://raw.githubusercontent.com/profivan-ai/cdb-Python/refs/heads/main/arquivos/alunos_cursos.csv',sep=';')\n",
        "\n",
        "# verificar nulos\n",
        "df.isnull().sum()\n"
      ]
    },
    {
      "cell_type": "code",
      "source": [
        "# eliminar uma coluna\n",
        "df.drop('Projetos',axis=1,inplace=True)\n",
        "df"
      ],
      "metadata": {
        "id": "B6t_xwCMD4m0"
      },
      "execution_count": null,
      "outputs": []
    },
    {
      "cell_type": "code",
      "source": [
        "df[\"Aprovado\"] = (df[\"Nota\"] >= 7.5) & (df[\"Presença\"] >= 7.5)\n",
        "\n",
        "df.Aprovado.value_counts()"
      ],
      "metadata": {
        "id": "csLh_zICEkvN"
      },
      "execution_count": null,
      "outputs": []
    },
    {
      "cell_type": "code",
      "source": [
        "def desempenho(nota):\n",
        "  if nota >= 8.0:\n",
        "    return \"Alto\"\n",
        "  elif nota >= 6.0:\n",
        "    return \"Médio\"\n",
        "  else:\n",
        "    return \"Baixo\""
      ],
      "metadata": {
        "id": "_GovhOFxGEFr"
      },
      "execution_count": 6,
      "outputs": []
    },
    {
      "cell_type": "code",
      "source": [
        "df[\"Desempenho\"] = df[\"Nota\"].apply(desempenho)\n",
        "df"
      ],
      "metadata": {
        "id": "Tio04CvYJRWj"
      },
      "execution_count": null,
      "outputs": []
    },
    {
      "cell_type": "code",
      "source": [
        "#média de notas por curso - ordenado do menor para o maior - definindo uma coluna para o indice\n",
        "# criar gráfico para essa média\n",
        "# diminuir o intervalo do eixo y\n",
        "# apresentar o grid na impressao do grafico\n",
        "\n",
        "import numpy as np\n",
        "import matplotlib.pyplot as plt\n",
        "media_notas = df.groupby('Curso')['Nota'].mean().sort_values(ascending=True).reset_index()\n",
        "\n",
        "# definir y_min and y_max\n",
        "y_min = 0\n",
        "y_max = 10\n",
        "\n",
        "ax = media_notas.plot(\n",
        "    kind='bar',\n",
        "    x='Curso',\n",
        "    color='skyblue',\n",
        "    figsize=(8,5),\n",
        "    title='Média de Notas por curso',\n",
        "    xlabel='Cursos',\n",
        "    ylabel='Nota'\n",
        "    )\n",
        "ax.set_yticks(np.arange(np.floor(y_min*2)/2, np.ceil(y_max*2)/2 + 0.5,0.5))\n",
        "ax.grid(True, linestyle='--', alpha=0.6) # Added grid\n",
        "plt.tight_layout()\n",
        "plt.show()"
      ],
      "metadata": {
        "id": "xflWe517Hd5F"
      },
      "execution_count": null,
      "outputs": []
    },
    {
      "cell_type": "code",
      "source": [
        "#o mesmo acima mas apresentado em grafico de linhas\n",
        "\n",
        "media_notas = df.groupby('Curso')['Nota'].mean().sort_values(ascending=True).reset_index()\n",
        "ax = media_notas.plot(\n",
        "    kind='line',\n",
        "    x='Curso',\n",
        "    color='skyblue',\n",
        "    figsize=(8,5),\n",
        "    title='Média de Notas por curso',\n",
        "    xlabel='Cursos',\n",
        "    ylabel='Nota'\n",
        "    )\n",
        "\n",
        "ax.grid(True, linestyle='--', alpha=0.5) # Added grid\n",
        "plt.tight_layout()\n",
        "plt.show()"
      ],
      "metadata": {
        "id": "mTW6IelUqsZ9"
      },
      "execution_count": null,
      "outputs": []
    },
    {
      "cell_type": "code",
      "source": [
        "#número de alunos aprovados por curso\n",
        "aprov_curso = df.groupby('Curso')['Aprovado'].sum().reset_index()\n",
        "aprov_curso.plot(\n",
        "    kind='pie',\n",
        "    figsize=(8,5),\n",
        "    y='Aprovado',\n",
        "    labels=aprov_curso['Curso'],\n",
        "    title='Distribuição por Aprovações',\n",
        "    ylabel= '',\n",
        "    autopct='%1.2f%%',\n",
        ")\n",
        "plt.tight_layout()\n",
        "plt.show()"
      ],
      "metadata": {
        "id": "wyY9ZWq6H0GA",
        "colab": {
          "base_uri": "https://localhost:8080/",
          "height": 507
        },
        "outputId": "7dcf0ab2-0e96-4e55-b74f-b6c8500f76f3"
      },
      "execution_count": 30,
      "outputs": [
        {
          "output_type": "display_data",
          "data": {
            "text/plain": [
              "<Figure size 800x500 with 1 Axes>"
            ],
            "image/png": "[encoded data removed]"
          },
          "metadata": {}
        }
      ]
    },
    {
      "cell_type": "code",
      "source": [
        "# número de alunos por curso (barra)\n",
        "import matplotlib.pyplot as plt\n",
        "df['Curso'].value_counts().plot(\n",
        "    kind='bar',\n",
        "    color='red',\n",
        "    figsize=(8,5),\n",
        "    title='Número de alunos por curso',\n",
        "    xlabel='Cursos',\n",
        "    ylabel='Número de alunos'\n",
        "    )\n",
        "plt.tight_layout()\n",
        "plt.show()"
      ],
      "metadata": {
        "id": "R1KwEXL5J4EV"
      },
      "execution_count": null,
      "outputs": []
    },
    {
      "cell_type": "code",
      "source": [
        "#Distribuição por desempenho (pizza)\n",
        "\n",
        "df['Desempenho'].value_counts().plot(\n",
        "    kind='pie',\n",
        "    figsize=(8,5),\n",
        "    title='Desempenho dos alunos',\n",
        "    ylabel= '',\n",
        "    autopct='%1.1f%%',\n",
        "    shadow=True\n",
        ")\n",
        "plt.tight_layout()\n",
        "plt.show()\n"
      ],
      "metadata": {
        "id": "eEsXQSK6ZLYL"
      },
      "execution_count": null,
      "outputs": []
    },
    {
      "cell_type": "code",
      "source": [
        "#Frequencia de Notas por curso (linha)\n",
        "df.groupby('Curso')['Nota'].plot(\n",
        "    kind='line',\n",
        "    legend=True,\n",
        "    figsize=(8,5),\n",
        "    title='Frequencia de notas por curso',\n",
        "    xlabel='Cursos',\n",
        "    ylabel='Notas'\n",
        ")\n",
        "plt.tight_layout()\n",
        "plt.show()"
      ],
      "metadata": {
        "id": "zT-JdWPAgr1j"
      },
      "execution_count": null,
      "outputs": []
    },
    {
      "cell_type": "code",
      "source": [
        "#Frequencia de Notas por curso (linha)\n",
        "curso = 'Estatística'\n",
        "df[df['Curso']  == curso].plot(\n",
        "    kind='line',\n",
        "    legend=True,\n",
        "    y='Nota',\n",
        "    figsize=(8,5),\n",
        "    title=f'Frequencia de notas por curso {curso}',\n",
        "    xlabel='Cursos',\n",
        "    ylabel='Notas'\n",
        ")\n",
        "plt.tight_layout()\n",
        "plt.show()"
      ],
      "metadata": {
        "id": "Sw58qcglhKR4"
      },
      "execution_count": null,
      "outputs": []
    }
  ]
}