{
  "nbformat": 4,
  "nbformat_minor": 0,
  "metadata": {
    "colab": {
      "provenance": [],
      "authorship_tag": "ABX9TyOL7ePQybAPHNF0X3vBExLC",
      "include_colab_link": true
    },
    "kernelspec": {
      "name": "python3",
      "display_name": "Python 3"
    },
    "language_info": {
      "name": "python"
    }
  },
  "cells": [
    {
      "cell_type": "markdown",
      "metadata": {
        "id": "view-in-github",
        "colab_type": "text"
      },
      "source": [
        "<a href=\"https://colab.research.google.com/github/MargaridaVitolo/Educ360/blob/main/Decis%C3%A3o%20simples.ipynb\" target=\"_parent\"><img src=\"https://colab.research.google.com/assets/colab-badge.svg\" alt=\"Open In Colab\"/></a>"
      ]
    },
    {
      "cell_type": "code",
      "execution_count": 10,
      "metadata": {
        "colab": {
          "base_uri": "https://localhost:8080/"
        },
        "id": "Gf31FOnqZWuG",
        "outputId": "67ab48dd-8318-4a25-840b-622c53380d3a"
      },
      "outputs": [
        {
          "output_type": "stream",
          "name": "stdout",
          "text": [
            "Digite seu nome: Margarida\n",
            "Digite a primeira nota: 9\n",
            "Digite a segunda nota: 8\n",
            "Média  Margarida  =  8.5\n"
          ]
        }
      ],
      "source": [
        "var_n1 = 0\n",
        "var_n2 = 0\n",
        "var_media = 0\n",
        "\n",
        "var_n1   = input (\"Digite a primeira nota: \")\n",
        "var_n2   = input (\"Digite a segunda nota: \")\n",
        "\n",
        "var_media = (int(var_n1) + int(var_n2)) / 2\n",
        "\n",
        "print (\"Média = \" , var_media)"
      ]
    }
  ]
}