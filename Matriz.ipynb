{
  "nbformat": 4,
  "nbformat_minor": 0,
  "metadata": {
    "colab": {
      "provenance": [],
      "authorship_tag": "ABX9TyP9cG1kkhtOozT649s8ZLf4",
      "include_colab_link": true
    },
    "kernelspec": {
      "name": "python3",
      "display_name": "Python 3"
    },
    "language_info": {
      "name": "python"
    }
  },
  "cells": [
    {
      "cell_type": "markdown",
      "metadata": {
        "id": "view-in-github",
        "colab_type": "text"
      },
      "source": [
        "<a href=\"https://colab.research.google.com/github/MargaridaVitolo/Educ360/blob/main/Matriz.ipynb\" target=\"_parent\"><img src=\"https://colab.research.google.com/assets/colab-badge.svg\" alt=\"Open In Colab\"/></a>"
      ]
    },
    {
      "cell_type": "code",
      "execution_count": 63,
      "metadata": {
        "colab": {
          "base_uri": "https://localhost:8080/"
        },
        "id": "Gf31FOnqZWuG",
        "outputId": "c39a8ec6-0a4c-458b-daaa-30adee9467c8"
      },
      "outputs": [
        {
          "output_type": "stream",
          "name": "stdout",
          "text": [
            "Digite o nome Carlos\n",
            "Digite a nota 5\n",
            "Digite a nota 6\n",
            "Digite a nota 7\n",
            "Digite a nota 9\n",
            "Digite o nome João\n",
            "Digite a nota 3\n",
            "Digite a nota 8\n",
            "Digite a nota 9\n",
            "Digite a nota 10\n",
            "---------------\n",
            "Carlos\n",
            "5.0\n",
            "6.0\n",
            "7.0\n",
            "9.0\n",
            "Média:  6.75\n",
            "---------------\n",
            "João\n",
            "3.0\n",
            "8.0\n",
            "9.0\n",
            "10.0\n",
            "Média:  7.5\n"
          ]
        }
      ],
      "source": [
        "import numpy as np\n",
        "\n",
        "var_notas = np.zeros((2,5), dtype=object)\n",
        "\n",
        "for x in range(2):\n",
        "  var_notas[x,0] = input(\"Digite o nome \")\n",
        "  for y in range(4):\n",
        "    var_notas[x,y+1] = float(input(\"Digite a nota \"))\n",
        "\n",
        "#impressão\n",
        "\n",
        "var_media = 0.0\n",
        "\n",
        "for x in range(2):\n",
        "  print (\"---------------\")\n",
        "  print(var_notas[x,0])\n",
        "  for y in range(4):\n",
        "    print(var_notas[x,y+1])\n",
        "    var_media = var_media + var_notas[x,y+1]\n",
        "\n",
        "  print(\"Média: \", var_media/4)\n",
        "  var_media = 0.0\n",
        "\n",
        "\n"
      ]
    }
  ]
}