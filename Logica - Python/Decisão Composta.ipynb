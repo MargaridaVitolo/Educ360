{
  "nbformat": 4,
  "nbformat_minor": 0,
  "metadata": {
    "colab": {
      "provenance": [],
      "authorship_tag": "ABX9TyPuIKjZzpoQKsViAvyB/jiN",
      "include_colab_link": true
    },
    "kernelspec": {
      "name": "python3",
      "display_name": "Python 3"
    },
    "language_info": {
      "name": "python"
    }
  },
  "cells": [
    {
      "cell_type": "markdown",
      "metadata": {
        "id": "view-in-github",
        "colab_type": "text"
      },
      "source": [
        "<a href=\"https://colab.research.google.com/github/MargaridaVitolo/Educ360/blob/main/Decis%C3%A3o%20Composta.ipynb\" target=\"_parent\"><img src=\"https://colab.research.google.com/assets/colab-badge.svg\" alt=\"Open In Colab\"/></a>"
      ]
    },
    {
      "cell_type": "code",
      "execution_count": 14,
      "metadata": {
        "colab": {
          "base_uri": "https://localhost:8080/"
        },
        "id": "Gf31FOnqZWuG",
        "outputId": "ad9077c8-a493-4a53-fc29-f674f7f5ed06"
      },
      "outputs": [
        {
          "output_type": "stream",
          "name": "stdout",
          "text": [
            "Digite a primeira nota: 9\n",
            "Digite a segunda nota: 5\n",
            "Media calculada  7.0\n",
            "------------\n",
            "Aprovado\n"
          ]
        }
      ],
      "source": [
        "var_n1 = 0\n",
        "var_n2 = 0\n",
        "var_media = 0\n",
        "\n",
        "var_msg = \"Aprovado\"\n",
        "var_np  = \"Nova Prova\"\n",
        "\n",
        "var_n1   = input (\"Digite a primeira nota: \")\n",
        "var_n2   = input (\"Digite a segunda nota: \")\n",
        "\n",
        "var_media = (int(var_n1) + int(var_n2)) / 2\n",
        "\n",
        "print(\"Media calculada \", var_media)\n",
        "\n",
        "if (var_media >= 7):\n",
        "  print(\"------------\")\n",
        "  print(var_msg)\n",
        "else:\n",
        "  print(\"------------\")\n",
        "  print(var_np)\n",
        "\n"
      ]
    }
  ]
}