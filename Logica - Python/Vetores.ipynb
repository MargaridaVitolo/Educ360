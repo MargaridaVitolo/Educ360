{
  "nbformat": 4,
  "nbformat_minor": 0,
  "metadata": {
    "colab": {
      "provenance": [],
      "authorship_tag": "ABX9TyP+7o7um4HWWb+hnf8v9Mv8",
      "include_colab_link": true
    },
    "kernelspec": {
      "name": "python3",
      "display_name": "Python 3"
    },
    "language_info": {
      "name": "python"
    }
  },
  "cells": [
    {
      "cell_type": "markdown",
      "metadata": {
        "id": "view-in-github",
        "colab_type": "text"
      },
      "source": [
        "<a href=\"https://colab.research.google.com/github/MargaridaVitolo/Educ360/blob/main/Vetores.ipynb\" target=\"_parent\"><img src=\"https://colab.research.google.com/assets/colab-badge.svg\" alt=\"Open In Colab\"/></a>"
      ]
    },
    {
      "cell_type": "code",
      "execution_count": 49,
      "metadata": {
        "colab": {
          "base_uri": "https://localhost:8080/"
        },
        "id": "Gf31FOnqZWuG",
        "outputId": "3b606b1b-2b90-4048-d0fd-43a8a4fc23b1"
      },
      "outputs": [
        {
          "output_type": "stream",
          "name": "stdout",
          "text": [
            "Digite a nota: 7\n",
            "Digite a nota: 8\n",
            "Digite a nota: 9\n",
            "Digite a nota: 10\n",
            "Aprovado\n",
            "Média =  8.5\n",
            "7.0\n",
            "8.0\n",
            "9.0\n",
            "10.0\n"
          ]
        }
      ],
      "source": [
        "var_notas = []\n",
        "var_media = 0\n",
        "\n",
        "for x in range(4):\n",
        "  var_notas.append(float(input(\"Digite a nota: \")))\n",
        "  var_media = float(var_media) + float(var_notas[x])\n",
        "\n",
        "var_media = float(var_media) / 4\n",
        "\n",
        "if var_media >= 7:\n",
        "  print(\"Aprovado\")\n",
        "else:\n",
        "  print(\"Nova Prova\")\n",
        "\n",
        "print(\"Média = \", var_media)\n",
        "\"\"\"print(\"Nota 1\", var_notas[0])\n",
        "print(\"Nota 2\", var_notas[1])\n",
        "print(\"Nota 3\", var_notas[2])\n",
        "print(\"Nota 4\", var_notas[3]\"\"\"\n",
        "\n",
        "for x in var_notas:\n",
        "  print (x)\n",
        "\n"
      ]
    }
  ]
}