{
  "nbformat": 4,
  "nbformat_minor": 0,
  "metadata": {
    "colab": {
      "provenance": [],
      "authorship_tag": "ABX9TyO5F+caUFAEdpFDXoSc8gqS",
      "include_colab_link": true
    },
    "kernelspec": {
      "name": "python3",
      "display_name": "Python 3"
    },
    "language_info": {
      "name": "python"
    }
  },
  "cells": [
    {
      "cell_type": "markdown",
      "metadata": {
        "id": "view-in-github",
        "colab_type": "text"
      },
      "source": [
        "<a href=\"https://colab.research.google.com/github/MargaridaVitolo/Educ360/blob/main/Decis%C3%A3o%20Encadeada.ipynb\" target=\"_parent\"><img src=\"https://colab.research.google.com/assets/colab-badge.svg\" alt=\"Open In Colab\"/></a>"
      ]
    },
    {
      "cell_type": "code",
      "execution_count": 18,
      "metadata": {
        "colab": {
          "base_uri": "https://localhost:8080/"
        },
        "id": "Gf31FOnqZWuG",
        "outputId": "2ca71735-88f1-4154-eb91-9e3944c4d1e6"
      },
      "outputs": [
        {
          "output_type": "stream",
          "name": "stdout",
          "text": [
            "Digite a primeira nota: 7\n",
            "Digite a segunda nota: 9\n",
            "Media calculada  8.0\n",
            "Digite o ano: 3\n",
            "Diplomado\n"
          ]
        }
      ],
      "source": [
        "var_n1 = 0\n",
        "var_n2 = 0\n",
        "var_media = 0\n",
        "\n",
        "var_n1   = input (\"Digite a primeira nota: \")\n",
        "var_n2   = input (\"Digite a segunda nota: \")\n",
        "\n",
        "var_media = (int(var_n1) + int(var_n2)) / 2\n",
        "\n",
        "print(\"Media calculada \", var_media)\n",
        "\n",
        "if (var_media >= 7):\n",
        "  #var_ano = 0 não precisaria ser declarada\n",
        "  var_ano = input(\"Digite o ano: \")\n",
        "  if (int(var_ano) == 3):\n",
        "    print(\"Diplomado\")\n",
        "  else:\n",
        "    print(\"Aprovado\")\n",
        "else:\n",
        "  print(\"Nova Prova\")\n",
        "\n",
        "\n",
        "\n"
      ]
    }
  ]
}