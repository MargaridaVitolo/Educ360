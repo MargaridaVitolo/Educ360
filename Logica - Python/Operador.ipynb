{
  "nbformat": 4,
  "nbformat_minor": 0,
  "metadata": {
    "colab": {
      "provenance": [],
      "authorship_tag": "ABX9TyO3yPBMg5Mn6qvDvdXckIOQ",
      "include_colab_link": true
    },
    "kernelspec": {
      "name": "python3",
      "display_name": "Python 3"
    },
    "language_info": {
      "name": "python"
    }
  },
  "cells": [
    {
      "cell_type": "markdown",
      "metadata": {
        "id": "view-in-github",
        "colab_type": "text"
      },
      "source": [
        "<a href=\"https://colab.research.google.com/github/MargaridaVitolo/Educ360/blob/main/Operador.ipynb\" target=\"_parent\"><img src=\"https://colab.research.google.com/assets/colab-badge.svg\" alt=\"Open In Colab\"/></a>"
      ]
    },
    {
      "cell_type": "code",
      "execution_count": 30,
      "metadata": {
        "colab": {
          "base_uri": "https://localhost:8080/"
        },
        "id": "Gf31FOnqZWuG",
        "outputId": "15cc973b-8246-4a71-9296-d49f739a5782"
      },
      "outputs": [
        {
          "output_type": "stream",
          "name": "stdout",
          "text": [
            "Salário: 1900\n",
            "Faltas no mês: 1\n",
            "Salário Final:  1900.0\n"
          ]
        }
      ],
      "source": [
        "var_salario       = 0\n",
        "var_faltas        = 0\n",
        "var_salario_novo  = 0\n",
        "\n",
        "var_salario   = input(\"Salário: \")\n",
        "var_faltas    = input(\"Faltas no mês: \")\n",
        "\n",
        "if float(var_salario) <= 2000 and int(var_faltas) == 0:\n",
        "  var_salario_novo = float(var_salario) * 1.10\n",
        "else:\n",
        "  var_salario_novo = float(var_salario)\n",
        "\n",
        "print(\"Salário Final: \", var_salario_novo)\n",
        "\n",
        "\n",
        "\n",
        "\n"
      ]
    }
  ]
}