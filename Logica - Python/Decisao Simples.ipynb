{
  "nbformat": 4,
  "nbformat_minor": 0,
  "metadata": {
    "colab": {
      "provenance": [],
      "authorship_tag": "ABX9TyPKOM1Jd5aCkMHgET7rljbP",
      "include_colab_link": true
    },
    "kernelspec": {
      "name": "python3",
      "display_name": "Python 3"
    },
    "language_info": {
      "name": "python"
    }
  },
  "cells": [
    {
      "cell_type": "markdown",
      "metadata": {
        "id": "view-in-github",
        "colab_type": "text"
      },
      "source": [
        "<a href=\"https://colab.research.google.com/github/MargaridaVitolo/Educ360/blob/main/Decisao%20Simples.ipynb\" target=\"_parent\"><img src=\"https://colab.research.google.com/assets/colab-badge.svg\" alt=\"Open In Colab\"/></a>"
      ]
    },
    {
      "cell_type": "code",
      "execution_count": 11,
      "metadata": {
        "colab": {
          "base_uri": "https://localhost:8080/"
        },
        "id": "Gf31FOnqZWuG",
        "outputId": "dee26d97-d9f1-402f-ff60-f2ca77140640"
      },
      "outputs": [
        {
          "output_type": "stream",
          "name": "stdout",
          "text": [
            "Digite a primeira nota: 7\n",
            "Digite a segunda nota: 9\n",
            "Aprovado\n"
          ]
        }
      ],
      "source": [
        "var_n1 = 0\n",
        "var_n2 = 0\n",
        "var_media = 0\n",
        "\n",
        "var_n1   = input (\"Digite a primeira nota: \")\n",
        "var_n2   = input (\"Digite a segunda nota: \")\n",
        "\n",
        "var_media = (int(var_n1) + int(var_n2)) / 2\n",
        "\n",
        "if (var_media >= 7):\n",
        "  print(\"Aprovado\")\n",
        "\n"
      ]
    }
  ]
}